{
 "cells": [
  {
   "cell_type": "markdown",
   "id": "a305926a-2466-4877-95f9-39d046d41c1c",
   "metadata": {},
   "source": [
    "### Energy Data EDA"
   ]
  },
  {
   "cell_type": "code",
   "execution_count": null,
   "id": "fd5c61bf-931f-4e39-b3f6-d60aec5aabb0",
   "metadata": {},
   "outputs": [],
   "source": [
    "# Import Libraries\n",
    "\n",
    "import pandas as pd\n",
    "import matplotlib.pyplot as plt\n",
    "import seaborn as sns\n",
    "import numpy as np\n",
    "\n",
    "from sklearn.decomposition import PCA\n",
    "from sklearn.manifold import TSNE"
   ]
  },
  {
   "cell_type": "markdown",
   "id": "f6272156-2351-45da-8590-ac2485ba6225",
   "metadata": {},
   "source": [
    "Data Set is from  https://www.kaggle.com/datasets/sohommajumder21/appliances-energy-prediction-data-set oroginally from https://archive.ics.uci.edu/dataset/374/appliances+energy+prediction"
   ]
  },
  {
   "cell_type": "code",
   "execution_count": null,
   "id": "e57c31b5-9991-4840-a945-6f44a8fa5f39",
   "metadata": {},
   "outputs": [],
   "source": [
    "df = pd.read_csv('energydata.csv')"
   ]
  },
  {
   "cell_type": "code",
   "execution_count": null,
   "id": "00d95f8b-58f8-4eaa-814e-34ad7e3e9d60",
   "metadata": {},
   "outputs": [],
   "source": [
    "df.head()"
   ]
  },
  {
   "cell_type": "code",
   "execution_count": null,
   "id": "46b2603a-7b6f-48d5-9a24-50b3a2962b4c",
   "metadata": {},
   "outputs": [],
   "source": [
    "df.shape"
   ]
  },
  {
   "cell_type": "code",
   "execution_count": null,
   "id": "36bddc16-8920-4ad6-804a-311c7c0d2bf8",
   "metadata": {
    "scrolled": true
   },
   "outputs": [],
   "source": [
    "df.dtypes"
   ]
  },
  {
   "cell_type": "code",
   "execution_count": null,
   "id": "6ec65f93-5b93-480b-b814-5d525aea7d96",
   "metadata": {
    "scrolled": true
   },
   "outputs": [],
   "source": [
    "df.isnull().sum()"
   ]
  },
  {
   "cell_type": "code",
   "execution_count": null,
   "id": "d3e6efe2-db9a-41de-80ba-15a076534d6e",
   "metadata": {},
   "outputs": [],
   "source": [
    "df = pd.read_csv('energydata.csv')  # Reload original data\n",
    "df['date'] = pd.to_datetime(df['date'], format=\"%d-%m-%Y %H:%M\", errors='coerce')  # Convert back to readable datetime"
   ]
  },
  {
   "cell_type": "code",
   "execution_count": null,
   "id": "ae5d4f3b-72cd-4291-83e2-e60b4732f43f",
   "metadata": {},
   "outputs": [],
   "source": [
    "df.head()"
   ]
  },
  {
   "cell_type": "code",
   "execution_count": null,
   "id": "f04e6647-4f28-4d95-8924-7eb3581439aa",
   "metadata": {},
   "outputs": [],
   "source": [
    "df.tail()"
   ]
  },
  {
   "cell_type": "code",
   "execution_count": null,
   "id": "43048a47-b5b3-4f16-a381-2af84874fb6c",
   "metadata": {},
   "outputs": [],
   "source": [
    "df.info()"
   ]
  },
  {
   "cell_type": "code",
   "execution_count": null,
   "id": "1996736f-bcdc-4373-9c19-994e0ca69533",
   "metadata": {
    "scrolled": true
   },
   "outputs": [],
   "source": [
    "df.describe().T"
   ]
  },
  {
   "cell_type": "code",
   "execution_count": null,
   "id": "864ed813-ea24-4c9d-8bc7-0aa9b26ab8f2",
   "metadata": {},
   "outputs": [],
   "source": [
    "df['date'].max() - df['date'].min()"
   ]
  },
  {
   "cell_type": "code",
   "execution_count": null,
   "id": "223a2808-f5e3-4efe-b0a1-ebe7f1e85c4d",
   "metadata": {
    "scrolled": true
   },
   "outputs": [],
   "source": [
    "sns.pairplot(df, diag_kind=None)  # Removes diagonal self-plots\n",
    "plt.show()"
   ]
  },
  {
   "cell_type": "code",
   "execution_count": null,
   "id": "5ca4a26d-4e8a-4384-9f67-2af32752dfe7",
   "metadata": {},
   "outputs": [],
   "source": [
    "#Checking Tendencies & Distributions using Density\n",
    "\n",
    "# Set up the number of rows and columns for subplots\n",
    "num_features = len(df.columns)\n",
    "num_cols = 4  # Number of columns in the plot grid\n",
    "num_rows = -(-num_features // num_cols)  # Ceiling division to get rows\n",
    "\n",
    "# Set figure size\n",
    "fig, axes = plt.subplots(num_rows, num_cols, figsize=(15, num_rows * 3))\n",
    "\n",
    "# Flatten the axes array for easy iteration\n",
    "axes = axes.flatten()\n",
    "\n",
    "# Plot density for each feature\n",
    "for i, column in enumerate(df.columns):\n",
    "    sns.kdeplot(df[column], ax=axes[i], fill=True)\n",
    "    axes[i].set_title(f'Distribution of {column}')\n",
    "    axes[i].set_xlabel(column)\n",
    "\n",
    "# Hide any empty subplots (if feature count is not a multiple of num_cols)\n",
    "for i in range(num_features, len(axes)):\n",
    "    fig.delaxes(axes[i])\n",
    "\n",
    "# Adjust layout\n",
    "plt.tight_layout()\n",
    "plt.show()"
   ]
  },
  {
   "cell_type": "code",
   "execution_count": null,
   "id": "b966fa73-d413-4885-928e-07c50f00279f",
   "metadata": {},
   "outputs": [],
   "source": [
    "# Visualize Data as a whole with boxplot\n",
    "\n",
    "import math\n",
    "\n",
    "df_clean = df.drop(columns=['date']) #drop the date\n",
    "\n",
    "# Set the size of the figure\n",
    "num_features = len(df.columns)\n",
    "rows = math.ceil(num_features / 4)  # Calculate the number of rows needed (4 columns per row)\n",
    "cols = 4  # Set number of columns\n",
    "\n",
    "plt.figure(figsize=(15, 5 * rows))  # Adjust the height based on rows\n",
    "\n",
    "# Loop through each feature and create individual boxplots\n",
    "for i, column in enumerate(df.columns):\n",
    "    plt.subplot(rows, cols, i + 1)  # Adjust based on number of features\n",
    "    sns.boxplot(y=df[column])\n",
    "    plt.title(column)\n",
    "\n",
    "# Adjust layout to prevent overlap\n",
    "plt.tight_layout()\n",
    "plt.show()"
   ]
  },
  {
   "cell_type": "code",
   "execution_count": null,
   "id": "f17e9482-94e4-4697-b3d5-e5ea7108bb47",
   "metadata": {},
   "outputs": [],
   "source": []
  },
  {
   "cell_type": "code",
   "execution_count": null,
   "id": "2fe7b9ed-63ee-4827-862c-8fae6ab6cb41",
   "metadata": {},
   "outputs": [],
   "source": [
    "#Looking for Correlations among features\n",
    "\n",
    "# Calculate the correlation matrix\n",
    "corr_matrix = df_clean.corr()\n",
    "\n",
    "# Create a mask for the upper triangle\n",
    "mask = np.triu(np.ones_like(corr_matrix, dtype=bool))\n",
    "\n",
    "# Set the size of the plot\n",
    "plt.figure(figsize=(12, 10))\n",
    "\n",
    "# Plot the heatmap with the mask\n",
    "sns.heatmap(corr_matrix, annot=True, cmap='coolwarm', mask=mask, fmt='.2f', linewidths=0.5, cbar_kws={'shrink': 0.8})\n",
    "\n",
    "# Set the title\n",
    "plt.title('Correlation Heatmap with Mask')\n",
    "\n",
    "# Show the plot\n",
    "plt.show()\n"
   ]
  },
  {
   "cell_type": "code",
   "execution_count": null,
   "id": "15df5d44-73e2-426b-a68f-2011f1b57e87",
   "metadata": {},
   "outputs": [],
   "source": [
    "from sklearn.decomposition import PCA\n",
    "\n",
    "#checking separability\n",
    "\n",
    "# Drop 'date' column and any other non-numeric columns\n",
    "df_numeric = df.drop(columns=[\"date\", \"Appliances\"])  # Modify as needed to exclude other non-numeric columns\n",
    "\n",
    "# Perform PCA\n",
    "pca = PCA(n_components=2)\n",
    "pca_result = pca.fit_transform(df_numeric)\n",
    "\n",
    "# Create DataFrame for PCA results\n",
    "pca_df = pd.DataFrame(pca_result, columns=[\"PCA1\", \"PCA2\"])\n",
    "\n",
    "# Add the target column (assuming it's still available in `cleaned_df`)\n",
    "pca_df[\"Target\"] = df[\"Appliances\"]  # Replace if target column name differs\n",
    "\n",
    "# Plot PCA scatter plot\n",
    "plt.figure(figsize=(10, 6))\n",
    "sns.scatterplot(x=\"PCA1\", y=\"PCA2\", hue=\"Target\", data=pca_df, alpha=0.5, palette=\"viridis\")\n",
    "plt.title(\"PCA Projection (2D)\")\n",
    "plt.show()"
   ]
  },
  {
   "cell_type": "code",
   "execution_count": null,
   "id": "4f3b39bb-9017-4576-9f55-3dcdc29a8883",
   "metadata": {},
   "outputs": [],
   "source": [
    "from sklearn.manifold import TSNE\n",
    "\n",
    "# Use PCA results as input for t-SNE (2D)\n",
    "tsne = TSNE(n_components=2, random_state=42)\n",
    "tsne_result = tsne.fit_transform(pca_result)\n",
    "\n",
    "# Create DataFrame for t-SNE results\n",
    "tsne_df = pd.DataFrame(tsne_result, columns=[\"TSNE1\", \"TSNE2\"])\n",
    "\n",
    "# Add the target column (assuming it's still available in `cleaned_df`)\n",
    "tsne_df[\"Target\"] = df[\"Appliances\"]  # Replace if target column name differs\n",
    "\n",
    "# Plot t-SNE scatter plot\n",
    "plt.figure(figsize=(10, 6))\n",
    "sns.scatterplot(x=\"TSNE1\", y=\"TSNE2\", hue=\"Target\", data=tsne_df, alpha=0.5, palette=\"viridis\")\n",
    "plt.title(\"t-SNE Projection (2D)\")\n",
    "plt.show()"
   ]
  },
  {
   "cell_type": "code",
   "execution_count": null,
   "id": "d8daf4cf-6c12-4e5d-9a01-d098ce75d344",
   "metadata": {
    "scrolled": true
   },
   "outputs": [],
   "source": [
    "# Remove 'date' column (non-numeric) from the dataset\n",
    "numeric_df = df.drop(columns=['date'])\n",
    "\n",
    "# Set up the plot for numeric columns only\n",
    "plt.figure(figsize=(15, 5 * rows))\n",
    "\n",
    "for i, column in enumerate(numeric_df.columns):\n",
    "    plt.subplot(rows, cols, i + 1)  # Create a subplot for each feature\n",
    "    sns.scatterplot(x=numeric_df.index, y=numeric_df[column])\n",
    "    plt.title(column)\n",
    "\n",
    "# Adjust layout for better visibility\n",
    "plt.tight_layout()\n",
    "plt.show()"
   ]
  },
  {
   "cell_type": "code",
   "execution_count": null,
   "id": "566955fa-d51e-494a-89da-7525cc1e20c2",
   "metadata": {},
   "outputs": [],
   "source": [
    "# Check the distribution of the target variable\n",
    "target_distribution = df_clean[\"Appliances\"].value_counts()\n",
    "print(target_distribution)"
   ]
  },
  {
   "cell_type": "code",
   "execution_count": null,
   "id": "9aa9d26c-cf60-4720-8956-934e6ad9c373",
   "metadata": {},
   "outputs": [],
   "source": [
    "plt.figure(figsize=(10, 6))\n",
    "sns.histplot(df[\"Appliances\"], bins=50, kde=True, color=\"royalblue\")\n",
    "plt.title(\"Distribution of Appliances Energy Consumption\")\n",
    "plt.xlabel(\"Energy Consumption (Wh)\")\n",
    "plt.ylabel(\"Frequency\")\n",
    "plt.grid(True)\n",
    "plt.show()"
   ]
  },
  {
   "cell_type": "code",
   "execution_count": null,
   "id": "84cfc60b-99a8-4d28-b079-5e7303442c27",
   "metadata": {},
   "outputs": [],
   "source": [
    "#Now dropping highly corelated features \n",
    "\n",
    "# Check for highly correlated columns (features)\n",
    "\n",
    "# Calculate the correlation matrix for the numeric columns\n",
    "corr_matrix = df.corr()\n",
    "\n",
    "# Set the figure size for better readability\n",
    "plt.figure(figsize=(12, 8))\n",
    "\n",
    "# Create a mask to hide the upper triangle of the heatmap\n",
    "mask = np.triu(np.ones_like(corr_matrix, dtype=bool))\n",
    "\n",
    "# Plot the heatmap using a soft, eye-friendly color palette\n",
    "sns.heatmap(corr_matrix, annot=True, cmap='YlGnBu', fmt='.2f', \n",
    "            linewidths=0.5, mask=mask, cbar_kws={'shrink': 0.8}, \n",
    "            annot_kws={'size': 10, 'weight': 'bold'}, vmin=-1, vmax=1)\n",
    "\n",
    "# Add a title for the heatmap\n",
    "plt.title('Correlation Heatmap of All Features', fontsize=16, weight='bold')\n",
    "\n",
    "# Show the plot\n",
    "plt.tight_layout()\n",
    "plt.show()"
   ]
  },
  {
   "cell_type": "code",
   "execution_count": null,
   "id": "bcc39d4c-e87d-4e3c-85e0-3bd9b8d989b8",
   "metadata": {},
   "outputs": [],
   "source": [
    "for column in df.columns:\n",
    "    print(f\"{column}: {df[column].dtype}\")  # Check the data type of each column"
   ]
  },
  {
   "cell_type": "code",
   "execution_count": null,
   "id": "2e18d9c4-f69a-4cd7-9b5e-b11293392970",
   "metadata": {},
   "outputs": [],
   "source": []
  }
 ],
 "metadata": {
  "kernelspec": {
   "display_name": "Python 3 (ipykernel)",
   "language": "python",
   "name": "python3"
  },
  "language_info": {
   "codemirror_mode": {
    "name": "ipython",
    "version": 3
   },
   "file_extension": ".py",
   "mimetype": "text/x-python",
   "name": "python",
   "nbconvert_exporter": "python",
   "pygments_lexer": "ipython3",
   "version": "3.12.2"
  }
 },
 "nbformat": 4,
 "nbformat_minor": 5
}
